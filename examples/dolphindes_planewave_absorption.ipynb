{
 "cells": [
  {
   "cell_type": "markdown",
   "id": "f370b629-0f51-4de9-9a9a-f471962bf35b",
   "metadata": {},
   "source": [
    "# Simple 2D Planewave Absorption Bound Example using dolphindes"
   ]
  },
  {
   "cell_type": "code",
   "execution_count": 1,
   "id": "67ddf2bc-0eba-4168-aa10-fdb55394afb7",
   "metadata": {},
   "outputs": [],
   "source": [
    "import numpy as np\n",
    "import scipy.sparse as sp\n",
    "import matplotlib.pyplot as plt\n",
    "import sys, time\n",
    "sys.path.append(\"/home/pengning/Documents/Research/DolphinDes_Dev/dolphindes\")\n",
    "\n",
    "from dolphindes.photonics.photonics import Photonics_TM_FDFD"
   ]
  },
  {
   "cell_type": "code",
   "execution_count": 2,
   "id": "202a7f42-ff78-4921-ba3c-7944f614a47f",
   "metadata": {},
   "outputs": [
    {
     "name": "stdout",
     "output_type": "stream",
     "text": [
      "<dolphindes.photonics.photonics.Photonics_TM_FDFD object at 0x7f47f656a660>\n",
      "chi_background None\n"
     ]
    }
   ],
   "source": [
    "wvlgth = 1.0\n",
    "omega = 2 * np.pi / wvlgth\n",
    "prob = Photonics_TM_FDFD(omega)\n",
    "print(prob)\n",
    "print('chi_background', prob.chi_background)"
   ]
  },
  {
   "cell_type": "code",
   "execution_count": 3,
   "id": "d49f00de-fb64-4152-b1cc-bdc6e6c6b2eb",
   "metadata": {},
   "outputs": [],
   "source": [
    "## geometry and materials of the planewave absorption problem ##\n",
    "prob.chi = 3+1e-2j\n",
    "gpr = 40\n",
    "prob.dl = 1.0 / gpr\n",
    "\n",
    "des_x = des_y = 1.0\n",
    "pmlsep = pmlthick = 0.5\n",
    "Mx = int(des_x * gpr)\n",
    "My = int(des_y * gpr)\n",
    "\n",
    "Npmlsepx = Npmlsepy = int(pmlsep * gpr)\n",
    "Npmlx = Npmly = int(pmlthick * gpr)\n",
    "Nx = Mx + 2*(Npmlsepx + Npmlx)\n",
    "Ny = My + 2*(Npmlsepy + Npmly)\n",
    "\n",
    "prob.des_mask = np.zeros((Nx,Ny), dtype=bool)\n",
    "prob.des_mask[Npmlx+Npmlsepx:-(Npmlx+Npmlsepx) , Npmly+Npmlsepy:-(Npmly+Npmlsepy)] = True\n",
    "Ndes = int(np.sum(prob.des_mask))"
   ]
  },
  {
   "cell_type": "code",
   "execution_count": 4,
   "id": "54a6b459-e3ae-42d8-9472-82db945e5eb6",
   "metadata": {},
   "outputs": [
    {
     "name": "stdout",
     "output_type": "stream",
     "text": [
      "<dolphindes.maxwell.maxwell_fdfd.TM_FDFD object at 0x7f47f4334d70>\n"
     ]
    }
   ],
   "source": [
    "## setup FDFD solver ##\n",
    "prob.setup_FDFD(Nx=Nx, Ny=Ny, Npmlx=Npmlx, Npmly=Npmly)\n",
    "print(prob.FDFD)"
   ]
  },
  {
   "cell_type": "code",
   "execution_count": 5,
   "id": "f0cec352-02aa-48f7-ad8f-b90e57dd03e3",
   "metadata": {},
   "outputs": [
    {
     "name": "stdout",
     "output_type": "stream",
     "text": [
      "chibackground None\n"
     ]
    }
   ],
   "source": [
    "## setup up QCQP for planewave absorption ##\n",
    "prob.sparseQCQP = True\n",
    "print('chibackground', prob.chi_background)\n",
    "prob.setup_EM_operators()\n",
    "\n",
    "prob.ji = np.zeros((Nx,Ny), dtype=complex)\n",
    "#prob.ji[:,Npmly] = 2.0 / prob.dl # planewave line source traveling in y dir\n",
    "prob.ji[Npmlx,:] = 2.0 / prob.dl # planewave line source traveling in x dir\n",
    "\n",
    "prob.c0 = 0.0\n",
    "prob.s0 = np.zeros(Ndes, dtype=complex)\n",
    "prob.A0 = 0.5 * np.imag(1/prob.chi) * omega * prob.Ginv.conj().T @ prob.Ginv * prob.dl**2\n"
   ]
  },
  {
   "cell_type": "code",
   "execution_count": 6,
   "id": "8685e8ca-9e9f-4842-ae92-e337caf6bb94",
   "metadata": {},
   "outputs": [
    {
     "name": "stdout",
     "output_type": "stream",
     "text": [
      "<dolphindes.cvxopt.qcqp.SparseSharedProjQCQP object at 0x7f47f4334ec0>\n"
     ]
    },
    {
     "name": "stderr",
     "output_type": "stream",
     "text": [
      "/home/pengning/Documents/Research/DolphinDes_Dev/dolphindes/dolphindes/cvxopt/qcqp.py:115: CholmodTypeConversionWarning: converting matrix of class csr_array to CSC format\n",
      "  self.Achofac = sksparse.cholmod.analyze(A)\n",
      "/home/pengning/Documents/Research/DolphinDes_Dev/dolphindes/dolphindes/cvxopt/qcqp.py:115: CholmodTypeConversionWarning: converting matrix of class csc_array to CSC format\n",
      "  self.Achofac = sksparse.cholmod.analyze(A)\n"
     ]
    }
   ],
   "source": [
    "prob.setup_QCQP(Pdiags=\"global\")\n",
    "print(prob.QCQP)"
   ]
  },
  {
   "cell_type": "code",
   "execution_count": 7,
   "id": "28085947-6498-4bc1-85db-719b19024200",
   "metadata": {},
   "outputs": [
    {
     "data": {
      "text/plain": [
       "<matplotlib.colorbar.Colorbar at 0x7f47b994b380>"
      ]
     },
     "execution_count": 7,
     "metadata": {},
     "output_type": "execute_result"
    },
    {
     "data": {
      "image/png": "[encoded data removed]",
      "text/plain": [
       "<Figure size 640x480 with 2 Axes>"
      ]
     },
     "metadata": {},
     "output_type": "display_data"
    }
   ],
   "source": [
    "## plot ei as a result of the given ji ##\n",
    "plt.imshow(np.real(prob.ei), cmap='RdBu')\n",
    "plt.colorbar()"
   ]
  },
  {
   "cell_type": "code",
   "execution_count": 8,
   "id": "40ad55ba-dba3-44fa-831b-db0d8369b3d9",
   "metadata": {},
   "outputs": [
    {
     "name": "stderr",
     "output_type": "stream",
     "text": [
      "/home/pengning/Documents/Research/DolphinDes_Dev/dolphindes/dolphindes/cvxopt/qcqp.py:136: CholmodTypeConversionWarning: converting matrix of class csr_array to CSC format\n",
      "  Acho = self.Achofac.cholesky(A)\n"
     ]
    },
    {
     "data": {
      "text/plain": [
       "0.018467669206002027"
      ]
     },
     "execution_count": 8,
     "metadata": {},
     "output_type": "execute_result"
    }
   ],
   "source": [
    "### timing of get_dual on its own ###\n",
    "import timeit\n",
    "init_lags = np.array([0, 0.01])\n",
    "timeit.timeit(lambda: prob.QCQP.get_dual(init_lags, get_grad=False), number=500) / 500"
   ]
  },
  {
   "cell_type": "code",
   "execution_count": 9,
   "id": "f56fac0a-2631-4296-8fc0-5b719f47cd46",
   "metadata": {},
   "outputs": [
    {
     "name": "stdout",
     "output_type": "stream",
     "text": [
      "Optimizer initialized with parameters:\n",
      "opttol: 0.01\n",
      "gradConverge: False\n",
      "min_inner_iter: 5\n",
      "max_restart: inf\n",
      "penalty_ratio: 0.01\n",
      "penalty_reduction: 0.1\n",
      "break_iter_period: 20\n",
      "verbose: 1\n",
      "penalty_vector_list: []\n",
      "Starting optimization with x0 = [0.   0.01]\n",
      "Outer iteration 0, penalty_ratio = 0.01, opt_fx = 5.0390162763191615\n"
     ]
    },
    {
     "name": "stderr",
     "output_type": "stream",
     "text": [
      "/home/pengning/Documents/Research/DolphinDes_Dev/dolphindes/dolphindes/cvxopt/qcqp.py:264: CholmodTypeConversionWarning: converting matrix of class csr_array to CSC format\n",
      "  Acho = self.Achofac.cholesky(A)\n"
     ]
    },
    {
     "name": "stdout",
     "output_type": "stream",
     "text": [
      "iter_num: 20, prev_fx: inf, opt_fx: 2.478893065374969, opttol: 0.01\n",
      "iter_num: 40, prev_fx: 2.478893065374969, opt_fx: 2.4788697918767255, opttol: 0.01\n",
      "Outer iteration 1, penalty_ratio = 0.001, opt_fx = 1.5424328736292057\n",
      "iter_num: 20, prev_fx: 2.478893065374969, opt_fx: 1.1858671531731426, opttol: 0.01\n",
      "iter_num: 40, prev_fx: 1.1858671531731426, opt_fx: 1.170646436184425, opttol: 0.01\n",
      "iter_num: 60, prev_fx: 1.170646436184425, opt_fx: 1.1706464360922175, opttol: 0.01\n",
      "Outer iteration 2, penalty_ratio = 0.0001, opt_fx = 1.168943869229361\n",
      "time took 14.749622344970703\n"
     ]
    }
   ],
   "source": [
    "## solve for global dual bound ##\n",
    "opt_params = {'opttol':1e-2, 'gradConverge': False, 'min_inner_iter': 5, 'max_restart': np.inf, 'penalty_ratio': 1e-2, 'penalty_reduction': 0.1, 'break_iter_period': 20, 'verbose': 1, 'penalty_vector_list': []}\n",
    "t = time.time()\n",
    "init_lags = np.array([0, 0.01])\n",
    "prob.QCQP.solve_current_dual_problem(method=\"bfgs\", opt_params=opt_params, init_lags = init_lags)\n",
    "print('time took', time.time() - t) ## around 23 s on my machine"
   ]
  },
  {
   "cell_type": "code",
   "execution_count": 10,
   "id": "d6de4938-6aac-469c-91ab-d53b88a64c0e",
   "metadata": {},
   "outputs": [
    {
     "name": "stdout",
     "output_type": "stream",
     "text": [
      "1.1689149713063332\n"
     ]
    }
   ],
   "source": [
    "print(prob.QCQP.current_dual)"
   ]
  },
  {
   "cell_type": "markdown",
   "id": "bdda3498-ef09-4081-b523-015fa5c21954",
   "metadata": {},
   "source": [
    "## comparison with old photonic-dual-bounds code"
   ]
  },
  {
   "cell_type": "code",
   "execution_count": 11,
   "id": "c3960b35-a6dc-450e-8f5a-ad1463aa016e",
   "metadata": {},
   "outputs": [],
   "source": [
    "sys.path.append('/home/pengning/Documents/Research/Github_photonic-dual-bounds/photonic-dual-bounds')\n",
    "from dualbound.Lagrangian.spatialProjopt_Zops_Msparse import Cholesky_analyze_ZTT, get_multiSource_Msparse_gradZTS_S, get_Msparse_gradZTS_S, get_multiSource_Msparse_gradZTT, get_Msparse_gradZTT, get_Msparse_inc_ZTT_mineig, get_Msparse_inc_PD_ZTT_mineig, check_Msparse_spatialProj_Lags_validity, check_Msparse_spatialProj_incLags_validity\n",
    "\n",
    "from dualbound.Lagrangian.spatialProjopt_vecs_Msparse import get_ZTTcho_Tvec\n",
    "\n",
    "from dualbound.Lagrangian.spatialProjopt_dualgradHess_fakeS_Msparse import get_inc_spatialProj_dualgrad_fakeS_Msparse, get_inc_spatialProj_dualgradHess_fakeS_Msparse\n",
    "\n",
    "from dualbound.Lagrangian.spatialProjopt_feasiblept_Msparse import spatialProjopt_find_feasiblept \n",
    "\n",
    "from dualbound.Optimization.BFGS_fakeSource_with_restart import BFGS_fakeS_with_restart\n",
    "\n",
    "from dualbound.Optimization.fakeSource_with_restart_singlematrix import fakeS_with_restart_singlematrix\n"
   ]
  },
  {
   "cell_type": "code",
   "execution_count": 12,
   "id": "3746959b-b18f-4c18-87b4-a233f5dee649",
   "metadata": {},
   "outputs": [
    {
     "name": "stdout",
     "output_type": "stream",
     "text": [
      "analyzing ZTT of format and shape csr (1600, 1600) and # of nonzero elements 88816\n",
      "Lags [0.   0.01]\n"
     ]
    },
    {
     "name": "stderr",
     "output_type": "stream",
     "text": [
      "/home/pengning/Documents/Research/Github_photonic-dual-bounds/photonic-dual-bounds/dualbound/Lagrangian/spatialProjopt_Zops_Msparse.py:128: CholmodTypeConversionWarning: converting matrix of class csr_array to CSC format\n",
      "  return chol.analyze(ZTT)\n",
      "/home/pengning/Documents/Research/Github_photonic-dual-bounds/photonic-dual-bounds/dualbound/Lagrangian/spatialProjopt_Zops_Msparse.py:128: CholmodTypeConversionWarning: converting matrix of class csc_array to CSC format\n",
      "  return chol.analyze(ZTT)\n",
      "/home/pengning/Documents/Research/Github_photonic-dual-bounds/photonic-dual-bounds/dualbound/Lagrangian/spatialProjopt_Zops_Msparse.py:194: CholmodTypeConversionWarning: converting matrix of class csr_array to CSC format\n",
      "  ZTTcho = chol.cholesky(ZTT)\n",
      "/home/pengning/Documents/Research/Github_photonic-dual-bounds/photonic-dual-bounds/dualbound/Lagrangian/spatialProjopt_Zops_Msparse.py:194: CholmodTypeConversionWarning: converting matrix of class csc_array to CSC format\n",
      "  ZTTcho = chol.cholesky(ZTT)\n"
     ]
    }
   ],
   "source": [
    "Si = prob.ei[prob.des_mask]\n",
    "\n",
    "O_lin = prob.s0\n",
    "O_quad = prob.A0\n",
    "\n",
    "GinvdagPdaglist = [prob.Ginv.conj().T]\n",
    "UPlist = [(prob.Ginv.conj().T @ prob.Ginv) / np.conj(prob.chi)  - prob.Ginv]\n",
    "\n",
    "gradZTT = get_Msparse_gradZTT(UPlist)\n",
    "ZTTchofac = Cholesky_analyze_ZTT(O_quad, gradZTT)\n",
    "gradZTS_S = get_Msparse_gradZTS_S(Si, GinvdagPdaglist)\n",
    "\n",
    "validityfunc = lambda dof: check_Msparse_spatialProj_incLags_validity(dof, include, O_quad, gradZTT, chofac=ZTTchofac)\n",
    "\n",
    "#mineigfunc = lambda dof: get_Msparse_inc_ZTT_mineig(dof, include, O_quad, UPlist, eigvals_only=False)\n",
    "mineigfunc = lambda dof: get_Msparse_inc_PD_ZTT_mineig(dof, include, O_quad, gradZTT, eigvals_only=False)\n",
    "\n",
    "Lags = np.array([0, 0.01])\n",
    "include = [True,True]\n",
    "while True:\n",
    "    tmp = check_Msparse_spatialProj_Lags_validity(Lags, O_quad, gradZTT)\n",
    "    if tmp>0:\n",
    "        break\n",
    "    print(tmp, flush=True)\n",
    "    print('zeta', Lags[1])\n",
    "    Lags[1] *= 1.5\n",
    "\n",
    "print('Lags', Lags)"
   ]
  },
  {
   "cell_type": "code",
   "execution_count": 13,
   "id": "0070a16d-fa21-4bb7-aacb-51ec0f7e74bd",
   "metadata": {},
   "outputs": [
    {
     "name": "stderr",
     "output_type": "stream",
     "text": [
      "/home/pengning/Documents/Research/Github_photonic-dual-bounds/photonic-dual-bounds/dualbound/Lagrangian/spatialProjopt_vecs_Msparse.py:27: CholmodTypeConversionWarning: converting matrix of class csr_array to CSC format\n",
      "  ZTTcho = chofac.cholesky(ZTT)\n"
     ]
    },
    {
     "name": "stdout",
     "output_type": "stream",
     "text": [
      "0.006730257311995956\n",
      "time took 3.365644931793213\n"
     ]
    }
   ],
   "source": [
    "alg='LBFGS'\n",
    "dualconst=0.0\n",
    "getT=False\n",
    "opttol=1e-2\n",
    "fakeSratio=1e-2\n",
    "reductFactor=0.1\n",
    "iter_period=20\n",
    "t = time.time()\n",
    "if alg=='Newton':\n",
    "    dgHfunc = lambda dof, dofgrad, dofHess, fSl, get_grad=True, get_Hess=True: get_inc_spatialProj_dualgradHess_fakeS_Msparse(dof, dofgrad, dofHess, include, O_lin, O_quad, gradZTS_S, gradZTT, fSl, dualconst=dualconst, get_grad=get_grad, get_Hess=get_Hess, chofac=ZTTchofac)\n",
    "    optincLags, optincgrad, dualval, objval = fakeS_with_restart_singlematrix(Lags[include], dgHfunc, validityfunc, mineigfunc, opttol=opttol, fakeSratio=fakeSratio, reductFactor=reductFactor, iter_period=iter_period)\n",
    "elif alg=='LBFGS':\n",
    "    dgfunc = lambda dof, dofgrad, fSl, get_grad=True: get_inc_spatialProj_dualgrad_fakeS_Msparse(dof, dofgrad, include, O_lin, O_quad, gradZTS_S, gradZTT, fSl, dualconst=dualconst, get_grad=get_grad, chofac=ZTTchofac)\n",
    "    ### timing of dgfunc on its own ###\n",
    "    init_grad = np.array([0.0,0.0])\n",
    "    print( timeit.timeit(lambda: dgfunc(init_lags, init_grad, [], get_grad=False), number=500) / 500 )\n",
    "    #optincLags, optincgrad, dualval, objval = BFGS_fakeS_with_restart(Lags[include], dgfunc, validityfunc, mineigfunc, opttol=opttol, fakeSratio=fakeSratio, reductFactor=reductFactor, iter_period=iter_period)\n",
    "\n",
    "print('time took', time.time() - t) # around 4-5 s on my machine"
   ]
  },
  {
   "cell_type": "code",
   "execution_count": null,
   "id": "8cbef301-fefa-469f-b6e3-f90c4653d216",
   "metadata": {},
   "outputs": [],
   "source": []
  }
 ],
 "metadata": {
  "kernelspec": {
   "display_name": "Python 3 (ipykernel)",
   "language": "python",
   "name": "python3"
  },
  "language_info": {
   "codemirror_mode": {
    "name": "ipython",
    "version": 3
   },
   "file_extension": ".py",
   "mimetype": "text/x-python",
   "name": "python",
   "nbconvert_exporter": "python",
   "pygments_lexer": "ipython3",
   "version": "3.13.2"
  }
 },
 "nbformat": 4,
 "nbformat_minor": 5
}
