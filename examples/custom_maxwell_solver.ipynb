{
 "cells": [
  {
   "cell_type": "markdown",
   "id": "4bcacc47",
   "metadata": {},
   "source": [
    "## Custom Maxwell Solvers\n",
    "Our FDFD Maxwell solver is great for simple tasks. The solver does not need to be fast: to compute limits, you only need to compute the inverse of the background Green's function mapping currents in the design region to fields in the design region, *once*. \n",
    "\n",
    "Still, if you want to slot in your own Maxwell solver, this tutorial will cover how to do so. This might help have better numerical consistency between the limits and your own inverse designs, or allow you to calculate limits for more complex systems."
   ]
  },
  {
   "cell_type": "code",
   "execution_count": 1,
   "id": "5e330bdf",
   "metadata": {},
   "outputs": [],
   "source": [
    "# %autoreload 2 # Autoreloading will not work in this file because of inspect. Restart the kernel if you need to reload. \n",
    "import inspect\n",
    "import numpy as np\n",
    "import scipy.sparse as sp\n",
    "import matplotlib.pyplot as plt\n",
    "import sys, time, os\n",
    "\n",
    "package_path = os.path.abspath('../../dolphindes')\n",
    "if package_path not in sys.path:\n",
    "    sys.path.append(package_path)\n",
    "\n",
    "from dolphindes import photonics, maxwell"
   ]
  },
  {
   "cell_type": "code",
   "execution_count": 2,
   "id": "46c33cc6",
   "metadata": {},
   "outputs": [
    {
     "name": "stdout",
     "output_type": "stream",
     "text": [
      "    def setup_EM_solver(self, omega=None, Nx=None, Ny=None, Npmlx=None, Npmly=None, dl=None, bloch_x=None, bloch_y=None):\n",
      "        \"\"\"\n",
      "        setup the solver. non-None arguments will define / modify corresponding attributes\n",
      "        \"\"\"\n",
      "        params = locals()\n",
      "        params.pop('self')\n",
      "        for param_name, param_value in params.items():\n",
      "            if param_value is not None:\n",
      "                setattr(self, param_name, param_value)\n",
      "\n",
      "        check_attributes(self, 'Nx', 'Ny', 'Npmlx', 'Npmly', 'dl', 'bloch_x', 'bloch_y')\n",
      "        self.EM_solver = TM_FDFD(self.omega, self.Nx, self.Ny, self.Npmlx, self.Npmly, self.dl, self.bloch_x, self.bloch_y)\n",
      "\n"
     ]
    }
   ],
   "source": [
    "# The photonics class has an attribute, self.EM_solver, which it calls to compute electromagnetic quantities. This is calculated in setup_EM_solver():\n",
    "print(inspect.getsource(photonics.Photonics_TM_FDFD.setup_EM_solver))"
   ]
  },
  {
   "cell_type": "code",
   "execution_count": 3,
   "id": "5df7ab8a",
   "metadata": {},
   "outputs": [],
   "source": [
    "# TM_FDFD is our TM FDFD code. All you have to do is over-write this function with your own custom solver. i.e. \n",
    "\n",
    "class custom_maxwell_photonics(photonics.Photonics_TM_FDFD):\n",
    "    def setup_EM_solver(self, omega, Nx, Ny, Npmlx, Npmly, dl, bloch_x, bloch_y):\n",
    "        # Do whatever you want with the parameters \n",
    "        self.EM_solver = None # here replace your custom solver\n",
    "        pass "
   ]
  },
  {
   "cell_type": "code",
   "execution_count": null,
   "id": "9defdce1",
   "metadata": {},
   "outputs": [
    {
     "name": "stdout",
     "output_type": "stream",
     "text": [
      "    def setup_EM_operators(self):\n",
      "        \"\"\"\n",
      "        setup EM operators associated with the given design region and background\n",
      "        \"\"\"\n",
      "        check_attributes(self, 'des_mask')\n",
      "        if self.sparseQCQP:\n",
      "            self.Ginv, self.M = self.EM_solver.get_GaaInv(self.des_mask, self.chi_background)\n",
      "        else:\n",
      "            raise ValueError(\"dense QCQP not implemented yet\")\n",
      "\n"
     ]
    }
   ],
   "source": [
    "# What should the EM_solver know what to do? \n",
    "# At minimum, it should be able to compute the off-diagonal block of the inverse of the Green's function which corresponds to design -> design. This gets called in setup_EM_operators, which is needed for setting up the QCQP for limit calculations. \n",
    "# (This may look different once everything has been implemented)\n",
    "print(inspect.getsource(photonics.Photonics_TM_FDFD.setup_EM_operators))"
   ]
  },
  {
   "cell_type": "code",
   "execution_count": 8,
   "id": "7591421f",
   "metadata": {},
   "outputs": [
    {
     "name": "stdout",
     "output_type": "stream",
     "text": [
      "    def get_GaaInv(self, A_mask: np.ndarray, chigrid: np.ndarray = None) -> tuple[np.ndarray, sp.csc_array]:\n",
      "        \"\"\"\n",
      "        Compute the inverse Green’s function on region A, G_{AA}^{-1}, using a Woodbury identity.\n",
      "\n",
      "        We partition the full Maxwell operator M into blocks corresponding to region A (design)\n",
      "        and its complement B (background):\n",
      "            M = [[A, B],\n",
      "                 [C, D]]\n",
      "        Then G_{AA}^{-1} = D - C A^{-1} B, up to a multiplicative constant MU_0 / k^2.\n",
      "\n",
      "        Parameters\n",
      "        ----------\n",
      "        A_mask : np.ndarray of bool, shape (Nx, Ny)\n",
      "            Mask for the design region A.\n",
      "        chigrid : np.ndarray of complex, optional\n",
      "            Material susceptibility distribution. If provided, M = M0 + diag(ω² χ).\n",
      "\n",
      "        Returns\n",
      "        -------\n",
      "        GaaInv : sp.csc_array of shape (n_A, n_A)\n",
      "            The inverse Green’s function on region A.\n",
      "        M : sp.csc_array\n",
      "            The full Maxwell operator used in the computation.\n",
      "        \"\"\"\n",
      "        # assemble full Maxwell operator (with materials if given)\n",
      "        M = self.M0 if chigrid is None else self.M0 + self._get_diagM_from_chigrid(chigrid)\n",
      "\n",
      "        # flatten masks and get index lists for design (A) and background (B)\n",
      "        flat_A_mask = A_mask.flatten()\n",
      "        designInd = np.nonzero(flat_A_mask)[0]\n",
      "        backgroundInd = np.nonzero(~flat_A_mask)[0]\n",
      "\n",
      "        # extract blocks A, B, C, D from M\n",
      "        A = (M[:, backgroundInd])[backgroundInd, :]\n",
      "        B = (M[:, designInd])[backgroundInd, :]\n",
      "        C = (M[:, backgroundInd])[designInd, :]\n",
      "        D = (M[designInd, :])[:, designInd]\n",
      "\n",
      "        # solve A * X = B  → X = A^{-1} B\n",
      "        AinvB = sp.linalg.spsolve(A, B)\n",
      "\n",
      "        # Woodbury: G_{AA}^{-1} = D - C A^{-1} B\n",
      "        Gfac = self.MU_0 / self.k**2\n",
      "        GaaInv = (D - (C @ AinvB)) * Gfac\n",
      "\n",
      "        return GaaInv, M\n",
      "\n"
     ]
    }
   ],
   "source": [
    "# For reference, this is what our get_GaaInv looks like:\n",
    "print(inspect.getsource(maxwell.TM_FDFD.get_GaaInv))"
   ]
  },
  {
   "cell_type": "code",
   "execution_count": 4,
   "id": "7388c6ee",
   "metadata": {},
   "outputs": [
    {
     "name": "stdout",
     "output_type": "stream",
     "text": [
      "    def get_ei(self, ji = None, update=False):\n",
      "        \"\"\"\n",
      "        get the incident field\n",
      "        \"\"\"\n",
      "        if self.ei is None:\n",
      "            ei = self.EM_solver.get_TM_field(ji, self.chi_background) if self.ji is None else self.EM_solver.get_TM_field(self.ji, self.chi_background)\n",
      "        else:\n",
      "            ei = self.ei        \n",
      "        if update: self.ei = ei\n",
      "        return ei\n",
      "\n"
     ]
    }
   ],
   "source": [
    "# What else should the EM_solver know what to do? If you plan to pass an incident current, it needs to know how to calculate fields from the currents. This is called in get_ei()\n",
    "print(inspect.getsource(photonics.Photonics_TM_FDFD.get_ei))\n",
    "# Alternatively, you can just pass ji = None and set_ei with a known incident field of size Nx, Ny via the attribute self.ei or by calling set_ei()"
   ]
  },
  {
   "cell_type": "code",
   "execution_count": null,
   "id": "d1576510-510e-4872-b6fa-9cd3fb638627",
   "metadata": {},
   "outputs": [],
   "source": []
  }
 ],
 "metadata": {
  "kernelspec": {
   "display_name": "Python 3 (ipykernel)",
   "language": "python",
   "name": "python3"
  },
  "language_info": {
   "codemirror_mode": {
    "name": "ipython",
    "version": 3
   },
   "file_extension": ".py",
   "mimetype": "text/x-python",
   "name": "python",
   "nbconvert_exporter": "python",
   "pygments_lexer": "ipython3",
   "version": "3.13.2"
  }
 },
 "nbformat": 4,
 "nbformat_minor": 5
}
