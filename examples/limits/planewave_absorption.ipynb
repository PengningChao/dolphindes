{
 "cells": [
  {
   "cell_type": "markdown",
   "id": "f370b629-0f51-4de9-9a9a-f471962bf35b",
   "metadata": {},
   "source": [
    "# Example: Planewave Absorption Maximization\n",
    "In this example, we compute bounds on the maximum absorption of an incident planewave by a structure. \n",
    "\n",
    "The harmonic time-averaged absorption is\n",
    "\n",
    "$$\n",
    "f(\\mathbf{e}) = \\frac{\\omega}{2}  \\int \\Im(\\epsilon(\\mathbf{r})) |\\mathbf{e}(\\mathbf{r})|^2 d \\mathbf{r}\n",
    "$$\n",
    "\n",
    "Using the fact that $\\Im(\\epsilon(\\mathbf{r})) |\\mathbf{e}(\\mathbf{r})|^2$ is only non-zero over the structure, we can rewrite this using the polarization field as\n",
    "\n",
    "$$\n",
    "f(\\mathbf{p}) = \\frac{\\omega}{2} \\Im\\left(\\chi \\frac{\\mathbf{p}^\\dagger}{\\chi^*} \\frac{\\mathbf{p}}{\\chi} \\right) = \\frac{\\omega}{2}\\frac{\\Im(\\chi)}{|\\chi|^2} \\mathbf{p}^\\dagger \\mathbf{p}.\n",
    "$$\n",
    "Therefore, the constant and linear parts of the objective are $0$, and the quadratic part is $A_0 = -\\frac{\\omega}{2}\\frac{\\Im(\\chi)}{|\\chi|^2} I = \\frac{\\omega}{2} \\Im\\left(\\frac{1}{\\chi} \\right) I$. Note the $-$ sign when defining $A_0$: this is because the QCQP class writes the QCQP objective as\n",
    "$$\n",
    "\\max_{\\mathbf{x}} \\quad -\\mathbf{x}^\\dagger A_0 \\mathbf{x} + 2\\Re(\\mathbf{x^\\dagger} s_0) + c_0.\n",
    "$$"
   ]
  },
  {
   "cell_type": "code",
   "execution_count": 8,
   "id": "67ddf2bc-0eba-4168-aa10-fdb55394afb7",
   "metadata": {},
   "outputs": [],
   "source": [
    "import numpy as np\n",
    "import scipy.sparse as sp\n",
    "import matplotlib.pyplot as plt\n",
    "import sys, time, os\n",
    "\n",
    "package_path = os.path.abspath('../../../dolphindes')\n",
    "if package_path not in sys.path:\n",
    "    sys.path.append(package_path)\n",
    "\n",
    "from dolphindes import photonics"
   ]
  },
  {
   "cell_type": "code",
   "execution_count": 9,
   "id": "d49f00de-fb64-4152-b1cc-bdc6e6c6b2eb",
   "metadata": {},
   "outputs": [
    {
     "data": {
      "text/plain": [
       "<matplotlib.image.AxesImage at 0x730dab5db250>"
      ]
     },
     "execution_count": 9,
     "metadata": {},
     "output_type": "execute_result"
    },
    {
     "data": {
      "image/png": "[encoded data removed]",
      "text/plain": [
       "<Figure size 480x480 with 1 Axes>"
      ]
     },
     "metadata": {},
     "output_type": "display_data"
    }
   ],
   "source": [
    "## wavelength, geometry and materials of the planewave absorption problem ##\n",
    "wavelength = 1.0\n",
    "omega = 2*np.pi / wavelength\n",
    "\n",
    "chi = 3 + 1e-2j\n",
    "\n",
    "px_per_length = 20 # pixels per length unit. If wavelength = 1.0, then this is pixels per wavelength.\n",
    "dl = 1 / px_per_length\n",
    "\n",
    "des_x = 1.5\n",
    "des_y = 1.5 # size of the design region for the absorbing structure\n",
    "pmlsep = pmlthick = 0.5\n",
    "Mx = int(des_x / dl)\n",
    "My = int(des_y / dl)\n",
    "\n",
    "Npmlsepx = Npmlsepy = int(pmlsep / dl)\n",
    "Npmlx = Npmly = int(pmlthick / dl)\n",
    "Nx = Mx + 2*(Npmlsepx + Npmlx)\n",
    "Ny = My + 2*(Npmlsepy + Npmly)\n",
    "\n",
    "des_mask = np.zeros((Nx,Ny), dtype=bool)\n",
    "des_mask[Npmlx+Npmlsepx:-(Npmlx+Npmlsepx) , Npmly+Npmlsepy:-(Npmly+Npmlsepy)] = True\n",
    "Ndes = int(np.sum(des_mask))\n",
    "\n",
    "## planewave source\n",
    "ji = np.zeros((Nx,Ny), dtype=complex)\n",
    "ji[Npmlx,:] = 2.0 / dl # linesource for unit amplitude planewave traveeling in x direction\n",
    "\n",
    "plt.matshow(des_mask + np.real(ji)*dl) # visualize where the mask and the source are"
   ]
  },
  {
   "cell_type": "code",
   "execution_count": 10,
   "id": "54a6b459-e3ae-42d8-9472-82db945e5eb6",
   "metadata": {},
   "outputs": [
    {
     "name": "stdout",
     "output_type": "stream",
     "text": [
      "Photonics_TM_FDFD(omega=6.283185307179586, chi=(3+0.01j), Nx=70, Ny=70, Npmlx=10, Npmly=10, dl=0.05, des_mask=True, ji=True, ei=False, chi_background=False, bloch_x=0.0, bloch_y=0.0)\n"
     ]
    }
   ],
   "source": [
    "## setup the ephotonic TM FDFD class\n",
    "abs_problem = photonics.Photonics_TM_FDFD(omega=omega, chi=chi, dl=dl,\n",
    "                                          grid_size=(Nx,Ny), pml_size=(Npmlx,Npmly),\n",
    "                                          des_mask=des_mask, ji=ji, sparseQCQP=True)\n",
    "\n",
    "print(abs_problem)"
   ]
  },
  {
   "cell_type": "code",
   "execution_count": 11,
   "id": "8685e8ca-9e9f-4842-ae92-e337caf6bb94",
   "metadata": {},
   "outputs": [
    {
     "data": {
      "text/plain": [
       "<matplotlib.colorbar.Colorbar at 0x730dab459810>"
      ]
     },
     "execution_count": 11,
     "metadata": {},
     "output_type": "execute_result"
    },
    {
     "data": {
      "image/png": "[encoded data removed]",
      "text/plain": [
       "<Figure size 640x480 with 2 Axes>"
      ]
     },
     "metadata": {},
     "output_type": "display_data"
    }
   ],
   "source": [
    "## obtain incident planewave and plot it\n",
    "ei = abs_problem.get_ei(ji, update=True)\n",
    "plt.imshow(np.real(ei), cmap='bwr')\n",
    "plt.colorbar()"
   ]
  },
  {
   "cell_type": "code",
   "execution_count": 12,
   "id": "28085947-6498-4bc1-85db-719b19024200",
   "metadata": {},
   "outputs": [
    {
     "name": "stdout",
     "output_type": "stream",
     "text": [
      "Precomputed 2 A matrices for the projectors.\n",
      "Found feasible point for dual problem: [5.85505053e-07 1.00000000e-01] with dualvalue 17.53046168796042\n",
      "global constraint bound is 1.6412234071924703\n"
     ]
    }
   ],
   "source": [
    "## We start by calculating limits with just the global conservation of power constraints\n",
    "c0 = 0.0\n",
    "s0 = np.zeros(Ndes, dtype=complex)\n",
    "A0 = (omega/2) * np.imag(1.0/chi) * sp.eye_array(Ndes) * dl**2 # dl**2 is the resolution factor for integration in 2D\n",
    "abs_problem.set_objective(s0=s0, A0=A0, c0=c0)\n",
    "abs_problem.setup_QCQP(Pdiags='global', verbose=1)\n",
    "result = abs_problem.bound_QCQP('newton')\n",
    "print(f'global constraint bound is {result[0]}')"
   ]
  },
  {
   "cell_type": "code",
   "execution_count": 13,
   "id": "40ad55ba-dba3-44fa-831b-db0d8369b3d9",
   "metadata": {},
   "outputs": [
    {
     "name": "stdout",
     "output_type": "stream",
     "text": [
      "Precomputed 2 A matrices for the projectors.\n",
      "At GCD iteration #1, best dual bound found is 1.6412234071923448.\n",
      "At GCD iteration #2, best dual bound found is 1.6063788857502743.\n",
      "At GCD iteration #3, best dual bound found is 1.5535201191476946.\n",
      "At GCD iteration #4, best dual bound found is 1.5119850050773262.\n",
      "At GCD iteration #5, best dual bound found is 1.5054804450937818.\n",
      "At GCD iteration #6, best dual bound found is 1.492092602673768.\n",
      "At GCD iteration #7, best dual bound found is 1.48023672812164.\n",
      "At GCD iteration #8, best dual bound found is 1.4771197858669889.\n",
      "At GCD iteration #9, best dual bound found is 1.473332402693579.\n",
      "At GCD iteration #10, best dual bound found is 1.4704160279607168.\n",
      "At GCD iteration #11, best dual bound found is 1.4669413733090866.\n",
      "At GCD iteration #12, best dual bound found is 1.4645522530501411.\n",
      "At GCD iteration #13, best dual bound found is 1.4649466359876688.\n",
      "At GCD iteration #14, best dual bound found is 1.4609912910514333.\n",
      "At GCD iteration #15, best dual bound found is 1.4616594483247833.\n"
     ]
    }
   ],
   "source": [
    "## if desired, we can run generalized constraint descent to tighten the bounds\n",
    "abs_problem.QCQP.run_gcd()\n",
    "abs_gcd_bound = abs_problem.QCQP.current_dual"
   ]
  },
  {
   "cell_type": "code",
   "execution_count": 14,
   "id": "f56fac0a-2631-4296-8fc0-5b719f47cd46",
   "metadata": {},
   "outputs": [
    {
     "name": "stdout",
     "output_type": "stream",
     "text": [
      "Bound for maximum absorption power found is 1.4616594483247833\n",
      "Ratio between maximum absorption cross section is 1.9488792644330444\n"
     ]
    }
   ],
   "source": [
    "print('Bound for maximum absorption power found is', abs_gcd_bound)\n",
    "Sx = 0.5 # unit amplitude planewave has Poynting vector magnitude of 0.5\n",
    "print('Ratio between maximum absorption cross section is', abs_gcd_bound / (Sx*des_y)) "
   ]
  }
 ],
 "metadata": {
  "kernelspec": {
   "display_name": "Python 3 (ipykernel)",
   "language": "python",
   "name": "python3"
  },
  "language_info": {
   "codemirror_mode": {
    "name": "ipython",
    "version": 3
   },
   "file_extension": ".py",
   "mimetype": "text/x-python",
   "name": "python",
   "nbconvert_exporter": "python",
   "pygments_lexer": "ipython3",
   "version": "3.13.2"
  }
 },
 "nbformat": 4,
 "nbformat_minor": 5
}
